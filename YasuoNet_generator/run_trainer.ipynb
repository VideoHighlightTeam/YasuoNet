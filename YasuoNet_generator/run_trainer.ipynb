{
 "cells": [
  {
   "cell_type": "markdown",
   "metadata": {},
   "source": [
    "# Video Summarizer 모델 학습/평가 코드"
   ]
  },
  {
   "cell_type": "code",
   "execution_count": 16,
   "metadata": {},
   "outputs": [],
   "source": [
    "import os\n",
    "import math\n",
    "import numpy as np\n",
    "import pandas as pd"
   ]
  },
  {
   "cell_type": "markdown",
   "metadata": {},
   "source": [
    "## 경로 설정 & 파라미터 설정"
   ]
  },
  {
   "cell_type": "code",
   "execution_count": 17,
   "metadata": {},
   "outputs": [],
   "source": [
    "# dataset_dir = r'E:\\Work\\YasuoNet\\data\\dataset14_sl3_vsr2_vw64_vh64_asr22050_mfcc'\n",
    "dataset_dir = './data'\n",
    "ckpt_dir = 'ckpt'\n",
    "\n",
    "x_includes = ['video', 'audio']\n",
    "batch_size = 139\n",
    "# for basic model\n",
    "#x_expand = 0\n",
    "# for sequence model\n",
    "x_expand = 2    # 앞 2개, 뒤 2개 segment 포함"
   ]
  },
  {
   "cell_type": "markdown",
   "metadata": {},
   "source": [
    "## 데이터 로더 생성"
   ]
  },
  {
   "cell_type": "code",
   "execution_count": 18,
   "metadata": {},
   "outputs": [],
   "source": [
    "from module.data_loader import DataLoader\n",
    "\n",
    "data_loader = DataLoader(dataset_dir, x_includes=x_includes, x_expand=x_expand)\n",
    "\n",
    "data_config = data_loader.get_metadata()['config']\n",
    "input_shape_dict = data_loader.get_metadata()['data_shape']"
   ]
  },
  {
   "cell_type": "markdown",
   "metadata": {},
   "source": [
    "## 모델의 모든 정보를 온전하게 저장 / 복원\n",
    "모델의 가중치 뿐만아니라 모든 레이어 구성 정보를 저장하여 추후 모델 선언부가 없어도 불러와서 사용 가능"
   ]
  },
  {
   "cell_type": "markdown",
   "metadata": {},
   "source": [
    "### 모델 복원"
   ]
  },
  {
   "cell_type": "code",
   "execution_count": 19,
   "metadata": {},
   "outputs": [
    {
     "name": "stdout",
     "output_type": "stream",
     "text": [
      "ckpt\\ckpt-20200826-223214-0007-0.7341_model.h5\n"
     ]
    }
   ],
   "source": [
    "checkpoint_name = 'ckpt-20200826-223214-0007-0.7341_model'\n",
    "model_path = os.path.join(ckpt_dir, checkpoint_name + '.h5')\n",
    "print(model_path)"
   ]
  },
  {
   "cell_type": "code",
   "execution_count": 20,
   "metadata": {},
   "outputs": [
    {
     "name": "stdout",
     "output_type": "stream",
     "text": [
      "WARNING:tensorflow:No training configuration found in the save file, so the model was *not* compiled. Compile it manually.\n"
     ]
    }
   ],
   "source": [
    "from tensorflow.keras.models import load_model\n",
    "\n",
    "model_restored = load_model(model_path)"
   ]
  },
  {
   "cell_type": "code",
   "execution_count": 21,
   "metadata": {},
   "outputs": [
    {
     "name": "stdout",
     "output_type": "stream",
     "text": [
      "Model: \"functional_1\"\n",
      "__________________________________________________________________________________________________\n",
      "Layer (type)                    Output Shape         Param #     Connected to                     \n",
      "==================================================================================================\n",
      "input_1 (InputLayer)            [(None, None, 6, 64, 0                                            \n",
      "__________________________________________________________________________________________________\n",
      "input_2 (InputLayer)            [(None, None, 40, 13 0                                            \n",
      "__________________________________________________________________________________________________\n",
      "time_distributed (TimeDistribut (None, None, 49152)  1312        input_1[0][0]                    \n",
      "__________________________________________________________________________________________________\n",
      "time_distributed_1 (TimeDistrib (None, None, 10400)  80          input_2[0][0]                    \n",
      "__________________________________________________________________________________________________\n",
      "concatenate (Concatenate)       (None, None, 59552)  0           time_distributed[0][0]           \n",
      "                                                                 time_distributed_1[0][0]         \n",
      "__________________________________________________________________________________________________\n",
      "bidirectional (Bidirectional)   (None, 32)           7624832     concatenate[0][0]                \n",
      "__________________________________________________________________________________________________\n",
      "dense (Dense)                   (None, 16)           528         bidirectional[0][0]              \n",
      "__________________________________________________________________________________________________\n",
      "dense_1 (Dense)                 (None, 1)            17          dense[0][0]                      \n",
      "==================================================================================================\n",
      "Total params: 7,626,769\n",
      "Trainable params: 7,625,377\n",
      "Non-trainable params: 1,392\n",
      "__________________________________________________________________________________________________\n"
     ]
    }
   ],
   "source": [
    "model_restored.summary()"
   ]
  },
  {
   "cell_type": "markdown",
   "metadata": {},
   "source": [
    "### 복원된 모델 테스트"
   ]
  },
  {
   "cell_type": "code",
   "execution_count": 22,
   "metadata": {},
   "outputs": [
    {
     "data": {
      "application/vnd.jupyter.widget-view+json": {
       "model_id": "d987d80f669d495bb4f6b3c7e10afb8c",
       "version_major": 2,
       "version_minor": 0
      },
      "text/plain": [
       "HBox(children=(FloatProgress(value=0.0, description='Test', max=13.0, style=ProgressStyle(description_width='i…"
      ]
     },
     "metadata": {},
     "output_type": "display_data"
    },
    {
     "name": "stdout",
     "output_type": "stream",
     "text": [
      "\n",
      "pred_1: 693\n",
      "\n"
     ]
    }
   ],
   "source": [
    "from module.trainer import Trainer\n",
    "\n",
    "trainer = Trainer(model_restored, data_loader, ckpt_dir)\n",
    "y_pred = trainer.test_prediction(batch_size)\n",
    "\n",
    "print(f'pred_1: {y_pred.sum()}')\n",
    "print()"
   ]
  },
  {
   "cell_type": "markdown",
   "metadata": {},
   "source": [
    "## 예측값 파일에 기록하기"
   ]
  },
  {
   "cell_type": "code",
   "execution_count": 25,
   "metadata": {},
   "outputs": [],
   "source": [
    "import shutil\n",
    "import glob\n",
    "from moviepy.editor import VideoFileClip, concatenate_videoclips\n",
    "\n",
    "def save_predictions():\n",
    "    from data_converter import to_hms\n",
    "    \n",
    "    segment_length = data_loader.get_metadata()['config']['segment_length']\n",
    "    \n",
    "    segment_df = data_loader.test_segment_df.copy()\n",
    "    segment_df['pred'] = y_pred\n",
    "    segment_df['start_sec'] = (segment_df['index'] * segment_length)\n",
    "    segment_df['end_sec'] = ((segment_df['index'] + 1) * segment_length)\n",
    "    \n",
    "    mp4_dir = '.' #해당 mp4 파일 폴더\n",
    "    start = np.array(segment_df['start_sec'][segment_df['pred'] == 1])\n",
    "    end = np.array(segment_df['end_sec'][segment_df['pred'] == 1])\n",
    "    name = \"raw\"\n",
    "    \n",
    "    i=1\n",
    "    while(i<len(end)):\n",
    "        if end[i] - 3 == end[i-1]:\n",
    "            end[i-1] = end[i]\n",
    "            start = np.delete(start, i)\n",
    "            end = np.delete(end, i)\n",
    "        else:\n",
    "            i+=1\n",
    "\n",
    "    clip = VideoFileClip(os.path.join(mp4_dir,name+\".mp4\"))\n",
    "    subclips = []\n",
    "    for i in range(len(start)):\n",
    "        start_lim = start[i]\n",
    "        end_lim = end[i]\n",
    "        subclips.append(clip.subclip(start_lim, end_lim))\n",
    "    final_clip=concatenate_videoclips(subclips)\n",
    "    final_clip.write_videofile(\"./Highlights\" + name + \".mp4\") #Enter the desired output highlights filename.\n",
    "    for i in subclips:\n",
    "        i.close()\n",
    "    clip.close()"
   ]
  },
  {
   "cell_type": "code",
   "execution_count": 26,
   "metadata": {},
   "outputs": [],
   "source": [
    "save_predictions()"
   ]
  },
  {
   "cell_type": "code",
   "execution_count": null,
   "metadata": {},
   "outputs": [],
   "source": []
  }
 ],
 "metadata": {
  "kernelspec": {
   "display_name": "Python 3",
   "language": "python",
   "name": "python3"
  },
  "language_info": {
   "codemirror_mode": {
    "name": "ipython",
    "version": 3
   },
   "file_extension": ".py",
   "mimetype": "text/x-python",
   "name": "python",
   "nbconvert_exporter": "python",
   "pygments_lexer": "ipython3",
   "version": "3.8.3"
  }
 },
 "nbformat": 4,
 "nbformat_minor": 4
}
