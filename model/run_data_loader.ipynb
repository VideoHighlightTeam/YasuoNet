{
 "cells": [
  {
   "cell_type": "markdown",
   "metadata": {},
   "source": [
    "# 데이터로더 테스트"
   ]
  },
  {
   "cell_type": "code",
   "execution_count": 1,
   "metadata": {},
   "outputs": [],
   "source": [
    "from data_loader import DataLoader\n",
    "from collections import Counter"
   ]
  },
  {
   "cell_type": "markdown",
   "metadata": {},
   "source": [
    "## 데이터로더 생성"
   ]
  },
  {
   "cell_type": "code",
   "execution_count": 2,
   "metadata": {},
   "outputs": [],
   "source": [
    "dl = DataLoader(r'E:\\Work\\YasuoNet\\data\\dataset120_sl5_vsr3_vw64_vh64_asr11025')"
   ]
  },
  {
   "cell_type": "markdown",
   "metadata": {},
   "source": [
    "## 데이터 개수 확인"
   ]
  },
  {
   "cell_type": "code",
   "execution_count": 3,
   "metadata": {},
   "outputs": [
    {
     "data": {
      "text/html": [
       "<div>\n",
       "<style scoped>\n",
       "    .dataframe tbody tr th:only-of-type {\n",
       "        vertical-align: middle;\n",
       "    }\n",
       "\n",
       "    .dataframe tbody tr th {\n",
       "        vertical-align: top;\n",
       "    }\n",
       "\n",
       "    .dataframe thead th {\n",
       "        text-align: right;\n",
       "    }\n",
       "</style>\n",
       "<table border=\"1\" class=\"dataframe\">\n",
       "  <thead>\n",
       "    <tr style=\"text-align: right;\">\n",
       "      <th></th>\n",
       "      <th>title</th>\n",
       "      <th>name</th>\n",
       "      <th>index</th>\n",
       "      <th>label</th>\n",
       "      <th>path</th>\n",
       "      <th>subset</th>\n",
       "    </tr>\n",
       "  </thead>\n",
       "  <tbody>\n",
       "    <tr>\n",
       "      <th>0</th>\n",
       "      <td>20200205_KT_GEN_1</td>\n",
       "      <td>seg_00000_0</td>\n",
       "      <td>0</td>\n",
       "      <td>0</td>\n",
       "      <td>E:\\Work\\YasuoNet\\data\\dataset120_sl5_vsr3_vw64...</td>\n",
       "      <td>train</td>\n",
       "    </tr>\n",
       "    <tr>\n",
       "      <th>1</th>\n",
       "      <td>20200205_KT_GEN_1</td>\n",
       "      <td>seg_00001_0</td>\n",
       "      <td>1</td>\n",
       "      <td>0</td>\n",
       "      <td>E:\\Work\\YasuoNet\\data\\dataset120_sl5_vsr3_vw64...</td>\n",
       "      <td>train</td>\n",
       "    </tr>\n",
       "    <tr>\n",
       "      <th>2</th>\n",
       "      <td>20200205_KT_GEN_1</td>\n",
       "      <td>seg_00002_0</td>\n",
       "      <td>2</td>\n",
       "      <td>0</td>\n",
       "      <td>E:\\Work\\YasuoNet\\data\\dataset120_sl5_vsr3_vw64...</td>\n",
       "      <td>train</td>\n",
       "    </tr>\n",
       "    <tr>\n",
       "      <th>3</th>\n",
       "      <td>20200205_KT_GEN_1</td>\n",
       "      <td>seg_00003_0</td>\n",
       "      <td>3</td>\n",
       "      <td>0</td>\n",
       "      <td>E:\\Work\\YasuoNet\\data\\dataset120_sl5_vsr3_vw64...</td>\n",
       "      <td>train</td>\n",
       "    </tr>\n",
       "    <tr>\n",
       "      <th>4</th>\n",
       "      <td>20200205_KT_GEN_1</td>\n",
       "      <td>seg_00004_0</td>\n",
       "      <td>4</td>\n",
       "      <td>0</td>\n",
       "      <td>E:\\Work\\YasuoNet\\data\\dataset120_sl5_vsr3_vw64...</td>\n",
       "      <td>train</td>\n",
       "    </tr>\n",
       "    <tr>\n",
       "      <th>...</th>\n",
       "      <td>...</td>\n",
       "      <td>...</td>\n",
       "      <td>...</td>\n",
       "      <td>...</td>\n",
       "      <td>...</td>\n",
       "      <td>...</td>\n",
       "    </tr>\n",
       "    <tr>\n",
       "      <th>90437</th>\n",
       "      <td>20200425_GEN_T1_3</td>\n",
       "      <td>seg_00814_0</td>\n",
       "      <td>814</td>\n",
       "      <td>0</td>\n",
       "      <td>E:\\Work\\YasuoNet\\data\\dataset120_sl5_vsr3_vw64...</td>\n",
       "      <td>train</td>\n",
       "    </tr>\n",
       "    <tr>\n",
       "      <th>90438</th>\n",
       "      <td>20200425_GEN_T1_3</td>\n",
       "      <td>seg_00815_0</td>\n",
       "      <td>815</td>\n",
       "      <td>0</td>\n",
       "      <td>E:\\Work\\YasuoNet\\data\\dataset120_sl5_vsr3_vw64...</td>\n",
       "      <td>train</td>\n",
       "    </tr>\n",
       "    <tr>\n",
       "      <th>90439</th>\n",
       "      <td>20200425_GEN_T1_3</td>\n",
       "      <td>seg_00816_0</td>\n",
       "      <td>816</td>\n",
       "      <td>0</td>\n",
       "      <td>E:\\Work\\YasuoNet\\data\\dataset120_sl5_vsr3_vw64...</td>\n",
       "      <td>train</td>\n",
       "    </tr>\n",
       "    <tr>\n",
       "      <th>90440</th>\n",
       "      <td>20200425_GEN_T1_3</td>\n",
       "      <td>seg_00817_0</td>\n",
       "      <td>817</td>\n",
       "      <td>0</td>\n",
       "      <td>E:\\Work\\YasuoNet\\data\\dataset120_sl5_vsr3_vw64...</td>\n",
       "      <td>train</td>\n",
       "    </tr>\n",
       "    <tr>\n",
       "      <th>90441</th>\n",
       "      <td>20200425_GEN_T1_3</td>\n",
       "      <td>seg_00818_0</td>\n",
       "      <td>818</td>\n",
       "      <td>0</td>\n",
       "      <td>E:\\Work\\YasuoNet\\data\\dataset120_sl5_vsr3_vw64...</td>\n",
       "      <td>train</td>\n",
       "    </tr>\n",
       "  </tbody>\n",
       "</table>\n",
       "<p>90442 rows × 6 columns</p>\n",
       "</div>"
      ],
      "text/plain": [
       "                   title         name  index  label  \\\n",
       "0      20200205_KT_GEN_1  seg_00000_0      0      0   \n",
       "1      20200205_KT_GEN_1  seg_00001_0      1      0   \n",
       "2      20200205_KT_GEN_1  seg_00002_0      2      0   \n",
       "3      20200205_KT_GEN_1  seg_00003_0      3      0   \n",
       "4      20200205_KT_GEN_1  seg_00004_0      4      0   \n",
       "...                  ...          ...    ...    ...   \n",
       "90437  20200425_GEN_T1_3  seg_00814_0    814      0   \n",
       "90438  20200425_GEN_T1_3  seg_00815_0    815      0   \n",
       "90439  20200425_GEN_T1_3  seg_00816_0    816      0   \n",
       "90440  20200425_GEN_T1_3  seg_00817_0    817      0   \n",
       "90441  20200425_GEN_T1_3  seg_00818_0    818      0   \n",
       "\n",
       "                                                    path subset  \n",
       "0      E:\\Work\\YasuoNet\\data\\dataset120_sl5_vsr3_vw64...  train  \n",
       "1      E:\\Work\\YasuoNet\\data\\dataset120_sl5_vsr3_vw64...  train  \n",
       "2      E:\\Work\\YasuoNet\\data\\dataset120_sl5_vsr3_vw64...  train  \n",
       "3      E:\\Work\\YasuoNet\\data\\dataset120_sl5_vsr3_vw64...  train  \n",
       "4      E:\\Work\\YasuoNet\\data\\dataset120_sl5_vsr3_vw64...  train  \n",
       "...                                                  ...    ...  \n",
       "90437  E:\\Work\\YasuoNet\\data\\dataset120_sl5_vsr3_vw64...  train  \n",
       "90438  E:\\Work\\YasuoNet\\data\\dataset120_sl5_vsr3_vw64...  train  \n",
       "90439  E:\\Work\\YasuoNet\\data\\dataset120_sl5_vsr3_vw64...  train  \n",
       "90440  E:\\Work\\YasuoNet\\data\\dataset120_sl5_vsr3_vw64...  train  \n",
       "90441  E:\\Work\\YasuoNet\\data\\dataset120_sl5_vsr3_vw64...  train  \n",
       "\n",
       "[90442 rows x 6 columns]"
      ]
     },
     "execution_count": 3,
     "metadata": {},
     "output_type": "execute_result"
    }
   ],
   "source": [
    "dl.all_segment_df"
   ]
  },
  {
   "cell_type": "code",
   "execution_count": 4,
   "metadata": {},
   "outputs": [
    {
     "data": {
      "text/plain": [
       "train    70\n",
       "test     27\n",
       "valid    23\n",
       "Name: subset, dtype: int64"
      ]
     },
     "execution_count": 4,
     "metadata": {},
     "output_type": "execute_result"
    }
   ],
   "source": [
    "df = dl.all_segment_df\n",
    "df[df['index'] == 0]['subset'].value_counts()"
   ]
  },
  {
   "cell_type": "markdown",
   "metadata": {},
   "source": [
    "### 전체 데이터 수"
   ]
  },
  {
   "cell_type": "code",
   "execution_count": 5,
   "metadata": {},
   "outputs": [
    {
     "data": {
      "text/plain": [
       "90442"
      ]
     },
     "execution_count": 5,
     "metadata": {},
     "output_type": "execute_result"
    }
   ],
   "source": [
    "all_data_count = dl.get_all_data_count()\n",
    "all_data_count"
   ]
  },
  {
   "cell_type": "markdown",
   "metadata": {},
   "source": [
    "### 레이블 별 데이터 수"
   ]
  },
  {
   "cell_type": "code",
   "execution_count": 6,
   "metadata": {},
   "outputs": [
    {
     "name": "stdout",
     "output_type": "stream",
     "text": [
      "label 0: 81026 (0.8959 %)\n",
      "label 1: 9416 (0.1041 %)\n"
     ]
    }
   ],
   "source": [
    "count_0 = dl.get_data_count_by_label(0)\n",
    "count_1 = dl.get_data_count_by_label(1)\n",
    "print(f'label 0: {count_0} ({count_0 / all_data_count:.4f} %)')\n",
    "print(f'label 1: {count_1} ({count_1 / all_data_count:.4f} %)')"
   ]
  },
  {
   "cell_type": "markdown",
   "metadata": {},
   "source": [
    "### 학습/검증/테스트 데이터 수"
   ]
  },
  {
   "cell_type": "code",
   "execution_count": 7,
   "metadata": {},
   "outputs": [
    {
     "name": "stdout",
     "output_type": "stream",
     "text": [
      "train: 53348 (0.5899 %)\n",
      "train: 17233 (0.1905 %)\n",
      "train: 19861 (0.2196 %)\n"
     ]
    }
   ],
   "source": [
    "count_train = dl.get_train_data_count()\n",
    "count_valid = dl.get_valid_data_count()\n",
    "count_test = dl.get_test_data_count()\n",
    "print(f'train: {count_train} ({count_train / all_data_count:.4f} %)')\n",
    "print(f'train: {count_valid} ({count_valid / all_data_count:.4f} %)')\n",
    "print(f'train: {count_test} ({count_test / all_data_count:.4f} %)')"
   ]
  },
  {
   "cell_type": "markdown",
   "metadata": {},
   "source": [
    "## 학습 배치 데이터 로드"
   ]
  },
  {
   "cell_type": "code",
   "execution_count": 12,
   "metadata": {},
   "outputs": [
    {
     "name": "stdout",
     "output_type": "stream",
     "text": [
      "0 5000 5000 Counter({0: 4493, 1: 507})\n",
      "1 5000 5000 Counter({0: 4493, 1: 507})\n"
     ]
    },
    {
     "ename": "KeyboardInterrupt",
     "evalue": "",
     "output_type": "error",
     "traceback": [
      "\u001b[1;31m---------------------------------------------------------------------------\u001b[0m",
      "\u001b[1;31mKeyboardInterrupt\u001b[0m                         Traceback (most recent call last)",
      "\u001b[1;32m<ipython-input-12-efd9014e024f>\u001b[0m in \u001b[0;36m<module>\u001b[1;34m\u001b[0m\n\u001b[0;32m      1\u001b[0m \u001b[0mdl_train_iter\u001b[0m \u001b[1;33m=\u001b[0m \u001b[0mdl\u001b[0m\u001b[1;33m.\u001b[0m\u001b[0miter_train_batch_data\u001b[0m\u001b[1;33m(\u001b[0m\u001b[1;36m5000\u001b[0m\u001b[1;33m)\u001b[0m\u001b[1;33m\u001b[0m\u001b[1;33m\u001b[0m\u001b[0m\n\u001b[0;32m      2\u001b[0m \u001b[1;33m\u001b[0m\u001b[0m\n\u001b[1;32m----> 3\u001b[1;33m \u001b[1;32mfor\u001b[0m \u001b[0mi\u001b[0m\u001b[1;33m,\u001b[0m \u001b[1;33m(\u001b[0m\u001b[0mbatch_x\u001b[0m\u001b[1;33m,\u001b[0m \u001b[0mbatch_y\u001b[0m\u001b[1;33m)\u001b[0m \u001b[1;32min\u001b[0m \u001b[0menumerate\u001b[0m\u001b[1;33m(\u001b[0m\u001b[0mdl_train_iter\u001b[0m\u001b[1;33m)\u001b[0m\u001b[1;33m:\u001b[0m\u001b[1;33m\u001b[0m\u001b[1;33m\u001b[0m\u001b[0m\n\u001b[0m\u001b[0;32m      4\u001b[0m     \u001b[0mprint\u001b[0m\u001b[1;33m(\u001b[0m\u001b[0mi\u001b[0m\u001b[1;33m,\u001b[0m \u001b[0mlen\u001b[0m\u001b[1;33m(\u001b[0m\u001b[0mbatch_x\u001b[0m\u001b[1;33m)\u001b[0m\u001b[1;33m,\u001b[0m \u001b[0mlen\u001b[0m\u001b[1;33m(\u001b[0m\u001b[0mbatch_y\u001b[0m\u001b[1;33m)\u001b[0m\u001b[1;33m,\u001b[0m \u001b[0mCounter\u001b[0m\u001b[1;33m(\u001b[0m\u001b[0mbatch_y\u001b[0m\u001b[1;33m.\u001b[0m\u001b[0msqueeze\u001b[0m\u001b[1;33m(\u001b[0m\u001b[1;33m)\u001b[0m\u001b[1;33m)\u001b[0m\u001b[1;33m)\u001b[0m\u001b[1;33m\u001b[0m\u001b[1;33m\u001b[0m\u001b[0m\n",
      "\u001b[1;32mZ:\\Sync\\Study\\ML\\AI College\\3. 프로젝트실습\\Codes\\VideoSummarizer\\data_loader.py\u001b[0m in \u001b[0;36miter_train_batch_data\u001b[1;34m(self, batch_size, repeat)\u001b[0m\n\u001b[0;32m    117\u001b[0m                 \u001b[0mbatch_data\u001b[0m \u001b[1;33m=\u001b[0m \u001b[1;33m[\u001b[0m\u001b[1;33m]\u001b[0m\u001b[1;33m\u001b[0m\u001b[1;33m\u001b[0m\u001b[0m\n\u001b[0;32m    118\u001b[0m                 \u001b[1;32mfor\u001b[0m \u001b[0mc\u001b[0m \u001b[1;32min\u001b[0m \u001b[0mrange\u001b[0m\u001b[1;33m(\u001b[0m\u001b[0mself\u001b[0m\u001b[1;33m.\u001b[0m\u001b[0mCLASS_COUNT\u001b[0m\u001b[1;33m)\u001b[0m\u001b[1;33m:\u001b[0m\u001b[1;33m\u001b[0m\u001b[1;33m\u001b[0m\u001b[0m\n\u001b[1;32m--> 119\u001b[1;33m                     \u001b[0mbatch_data\u001b[0m \u001b[1;33m+=\u001b[0m \u001b[1;33m[\u001b[0m\u001b[0mcu\u001b[0m\u001b[1;33m.\u001b[0m\u001b[0mload\u001b[0m\u001b[1;33m(\u001b[0m\u001b[0msegment\u001b[0m\u001b[1;33m[\u001b[0m\u001b[1;34m'path'\u001b[0m\u001b[1;33m]\u001b[0m\u001b[1;33m)\u001b[0m \u001b[1;32mfor\u001b[0m \u001b[0m_\u001b[0m\u001b[1;33m,\u001b[0m \u001b[0msegment\u001b[0m \u001b[1;32min\u001b[0m \u001b[0mlabel_batch_df\u001b[0m\u001b[1;33m[\u001b[0m\u001b[0mc\u001b[0m\u001b[1;33m]\u001b[0m\u001b[1;33m.\u001b[0m\u001b[0miterrows\u001b[0m\u001b[1;33m(\u001b[0m\u001b[1;33m)\u001b[0m\u001b[1;33m]\u001b[0m\u001b[1;33m\u001b[0m\u001b[1;33m\u001b[0m\u001b[0m\n\u001b[0m\u001b[0;32m    120\u001b[0m \u001b[1;33m\u001b[0m\u001b[0m\n\u001b[0;32m    121\u001b[0m                 \u001b[1;31m# x, y 데이터 분리\u001b[0m\u001b[1;33m\u001b[0m\u001b[1;33m\u001b[0m\u001b[1;33m\u001b[0m\u001b[0m\n",
      "\u001b[1;32mZ:\\Sync\\Study\\ML\\AI College\\3. 프로젝트실습\\Codes\\VideoSummarizer\\data_loader.py\u001b[0m in \u001b[0;36m<listcomp>\u001b[1;34m(.0)\u001b[0m\n\u001b[0;32m    117\u001b[0m                 \u001b[0mbatch_data\u001b[0m \u001b[1;33m=\u001b[0m \u001b[1;33m[\u001b[0m\u001b[1;33m]\u001b[0m\u001b[1;33m\u001b[0m\u001b[1;33m\u001b[0m\u001b[0m\n\u001b[0;32m    118\u001b[0m                 \u001b[1;32mfor\u001b[0m \u001b[0mc\u001b[0m \u001b[1;32min\u001b[0m \u001b[0mrange\u001b[0m\u001b[1;33m(\u001b[0m\u001b[0mself\u001b[0m\u001b[1;33m.\u001b[0m\u001b[0mCLASS_COUNT\u001b[0m\u001b[1;33m)\u001b[0m\u001b[1;33m:\u001b[0m\u001b[1;33m\u001b[0m\u001b[1;33m\u001b[0m\u001b[0m\n\u001b[1;32m--> 119\u001b[1;33m                     \u001b[0mbatch_data\u001b[0m \u001b[1;33m+=\u001b[0m \u001b[1;33m[\u001b[0m\u001b[0mcu\u001b[0m\u001b[1;33m.\u001b[0m\u001b[0mload\u001b[0m\u001b[1;33m(\u001b[0m\u001b[0msegment\u001b[0m\u001b[1;33m[\u001b[0m\u001b[1;34m'path'\u001b[0m\u001b[1;33m]\u001b[0m\u001b[1;33m)\u001b[0m \u001b[1;32mfor\u001b[0m \u001b[0m_\u001b[0m\u001b[1;33m,\u001b[0m \u001b[0msegment\u001b[0m \u001b[1;32min\u001b[0m \u001b[0mlabel_batch_df\u001b[0m\u001b[1;33m[\u001b[0m\u001b[0mc\u001b[0m\u001b[1;33m]\u001b[0m\u001b[1;33m.\u001b[0m\u001b[0miterrows\u001b[0m\u001b[1;33m(\u001b[0m\u001b[1;33m)\u001b[0m\u001b[1;33m]\u001b[0m\u001b[1;33m\u001b[0m\u001b[1;33m\u001b[0m\u001b[0m\n\u001b[0m\u001b[0;32m    120\u001b[0m \u001b[1;33m\u001b[0m\u001b[0m\n\u001b[0;32m    121\u001b[0m                 \u001b[1;31m# x, y 데이터 분리\u001b[0m\u001b[1;33m\u001b[0m\u001b[1;33m\u001b[0m\u001b[1;33m\u001b[0m\u001b[0m\n",
      "\u001b[1;32mZ:\\Sync\\Study\\ML\\AI College\\3. 프로젝트실습\\Codes\\VideoSummarizer\\util\\collection_util.py\u001b[0m in \u001b[0;36mload\u001b[1;34m(filename, compressed)\u001b[0m\n\u001b[0;32m     20\u001b[0m             \u001b[1;32mreturn\u001b[0m \u001b[0mpickle\u001b[0m\u001b[1;33m.\u001b[0m\u001b[0mload\u001b[0m\u001b[1;33m(\u001b[0m\u001b[0mf\u001b[0m\u001b[1;33m)\u001b[0m\u001b[1;33m\u001b[0m\u001b[1;33m\u001b[0m\u001b[0m\n\u001b[0;32m     21\u001b[0m     \u001b[1;32melse\u001b[0m\u001b[1;33m:\u001b[0m\u001b[1;33m\u001b[0m\u001b[1;33m\u001b[0m\u001b[0m\n\u001b[1;32m---> 22\u001b[1;33m         \u001b[1;32mwith\u001b[0m \u001b[0mopen\u001b[0m\u001b[1;33m(\u001b[0m\u001b[0mfilename\u001b[0m\u001b[1;33m,\u001b[0m \u001b[1;34m'rb'\u001b[0m\u001b[1;33m)\u001b[0m \u001b[1;32mas\u001b[0m \u001b[0mf\u001b[0m\u001b[1;33m:\u001b[0m\u001b[1;33m\u001b[0m\u001b[1;33m\u001b[0m\u001b[0m\n\u001b[0m\u001b[0;32m     23\u001b[0m             \u001b[1;32mreturn\u001b[0m \u001b[0mpickle\u001b[0m\u001b[1;33m.\u001b[0m\u001b[0mload\u001b[0m\u001b[1;33m(\u001b[0m\u001b[0mf\u001b[0m\u001b[1;33m)\u001b[0m\u001b[1;33m\u001b[0m\u001b[1;33m\u001b[0m\u001b[0m\n",
      "\u001b[1;31mKeyboardInterrupt\u001b[0m: "
     ]
    }
   ],
   "source": [
    "dl_train_iter = dl.iter_train_batch_data(5000)\n",
    "\n",
    "for i, (batch_x, batch_y) in enumerate(dl_train_iter):\n",
    "    print(i, len(batch_x), len(batch_y), Counter(batch_y.squeeze()))"
   ]
  },
  {
   "cell_type": "markdown",
   "metadata": {},
   "source": [
    "## 검증 배치 데이터 로드"
   ]
  },
  {
   "cell_type": "code",
   "execution_count": null,
   "metadata": {
    "scrolled": false
   },
   "outputs": [],
   "source": [
    "dl_valid_iter = dl.iter_valid_batch_data(5000)\n",
    "\n",
    "for i, (batch_x, batch_y) in enumerate(dl_valid_iter):\n",
    "    print(i, len(batch_x), len(batch_y), Counter(batch_y.squeeze()))"
   ]
  },
  {
   "cell_type": "markdown",
   "metadata": {},
   "source": [
    "## 테스트 배치 데이터 로드"
   ]
  },
  {
   "cell_type": "code",
   "execution_count": null,
   "metadata": {},
   "outputs": [],
   "source": [
    "dl_test_iter = dl.iter_test_batch_data(5000)\n",
    "\n",
    "for i, (batch_x, batch_y) in enumerate(dl_test_iter):\n",
    "    print(i, len(batch_x), len(batch_y), Counter(batch_y.squeeze()))"
   ]
  },
  {
   "cell_type": "markdown",
   "metadata": {},
   "source": [
    "## 전체 배치 데이터 로드 (별도의 prediction용 데이터셋에 사용)"
   ]
  },
  {
   "cell_type": "code",
   "execution_count": null,
   "metadata": {},
   "outputs": [],
   "source": [
    "dl_all_iter = dl.iter_all_batch_data(5000)\n",
    "\n",
    "for i, (batch_x, batch_y) in enumerate(dl_all_iter):\n",
    "    print(i, len(batch_x), len(batch_y), Counter(batch_y.squeeze()))"
   ]
  },
  {
   "cell_type": "markdown",
   "metadata": {},
   "source": [
    "## Small DataSet\n",
    "dataset14_sl5_vsr3_vw64_vh64_asr11025"
   ]
  },
  {
   "cell_type": "code",
   "execution_count": 13,
   "metadata": {},
   "outputs": [
    {
     "name": "stdout",
     "output_type": "stream",
     "text": [
      "0         20200205_KT_GEN_1\n",
      "938       20200205_T1_DWG_1\n",
      "2844      20200206_GRF_AF_1\n",
      "7780     20200208_APK_DWG_1\n",
      "9220     20200208_GEN_GRF_1\n",
      "9909      20200209_AF_HLE_3\n",
      "10664     20200209_SB_DRX_3\n",
      "11519     20200212_APK_AF_1\n",
      "Name: title, dtype: object\n",
      "\n",
      "segment count: 7234\n"
     ]
    }
   ],
   "source": [
    "small_train_set = df[(df['index'] == 0) & (df['subset'] == 'train')]['title'][:8]\n",
    "print(small_train_set)\n",
    "print('\\nsegment count:', len(df[df['title'].isin(small_train_set)]))"
   ]
  },
  {
   "cell_type": "code",
   "execution_count": 14,
   "metadata": {},
   "outputs": [
    {
     "name": "stdout",
     "output_type": "stream",
     "text": [
      "5295      20200207_DRX_KT_3\n",
      "15355    20200214_GRF_APK_3\n",
      "20930     20200216_T1_GEN_2\n",
      "Name: title, dtype: object\n",
      "\n",
      "\n",
      "segment count: 2281\n"
     ]
    }
   ],
   "source": [
    "small_valid_set = df[(df['index'] == 0) & (df['subset'] == 'valid')]['title'][:3]\n",
    "print(small_valid_set)\n",
    "print()\n",
    "print('\\nsegment count:', len(df[df['title'].isin(small_valid_set)]))"
   ]
  },
  {
   "cell_type": "code",
   "execution_count": 15,
   "metadata": {},
   "outputs": [
    {
     "name": "stdout",
     "output_type": "stream",
     "text": [
      "2017    20200205_T1_DWG_2\n",
      "3895    20200206_GRF_AF_2\n",
      "4638    20200207_DRX_KT_2\n",
      "Name: title, dtype: object\n",
      "\n",
      "segment count: 2227\n"
     ]
    }
   ],
   "source": [
    "small_test_set = df[(df['index'] == 0) & (df['subset'] == 'test')]['title'][:3]\n",
    "print(small_test_set)\n",
    "print('\\nsegment count:', len(df[df['title'].isin(small_test_set)]))"
   ]
  },
  {
   "cell_type": "code",
   "execution_count": 26,
   "metadata": {},
   "outputs": [
    {
     "data": {
      "text/html": [
       "<div>\n",
       "<style scoped>\n",
       "    .dataframe tbody tr th:only-of-type {\n",
       "        vertical-align: middle;\n",
       "    }\n",
       "\n",
       "    .dataframe tbody tr th {\n",
       "        vertical-align: top;\n",
       "    }\n",
       "\n",
       "    .dataframe thead th {\n",
       "        text-align: right;\n",
       "    }\n",
       "</style>\n",
       "<table border=\"1\" class=\"dataframe\">\n",
       "  <thead>\n",
       "    <tr style=\"text-align: right;\">\n",
       "      <th></th>\n",
       "      <th>title</th>\n",
       "      <th>name</th>\n",
       "      <th>index</th>\n",
       "      <th>label</th>\n",
       "      <th>path</th>\n",
       "      <th>subset</th>\n",
       "    </tr>\n",
       "  </thead>\n",
       "  <tbody>\n",
       "    <tr>\n",
       "      <th>0</th>\n",
       "      <td>20200205_KT_GEN_1</td>\n",
       "      <td>seg_00000_0</td>\n",
       "      <td>0</td>\n",
       "      <td>0</td>\n",
       "      <td>E:\\Work\\YasuoNet\\data\\dataset120_sl5_vsr3_vw64...</td>\n",
       "      <td>train</td>\n",
       "    </tr>\n",
       "    <tr>\n",
       "      <th>1</th>\n",
       "      <td>20200205_KT_GEN_1</td>\n",
       "      <td>seg_00001_0</td>\n",
       "      <td>1</td>\n",
       "      <td>0</td>\n",
       "      <td>E:\\Work\\YasuoNet\\data\\dataset120_sl5_vsr3_vw64...</td>\n",
       "      <td>train</td>\n",
       "    </tr>\n",
       "    <tr>\n",
       "      <th>2</th>\n",
       "      <td>20200205_KT_GEN_1</td>\n",
       "      <td>seg_00002_0</td>\n",
       "      <td>2</td>\n",
       "      <td>0</td>\n",
       "      <td>E:\\Work\\YasuoNet\\data\\dataset120_sl5_vsr3_vw64...</td>\n",
       "      <td>train</td>\n",
       "    </tr>\n",
       "    <tr>\n",
       "      <th>3</th>\n",
       "      <td>20200205_KT_GEN_1</td>\n",
       "      <td>seg_00003_0</td>\n",
       "      <td>3</td>\n",
       "      <td>0</td>\n",
       "      <td>E:\\Work\\YasuoNet\\data\\dataset120_sl5_vsr3_vw64...</td>\n",
       "      <td>train</td>\n",
       "    </tr>\n",
       "    <tr>\n",
       "      <th>4</th>\n",
       "      <td>20200205_KT_GEN_1</td>\n",
       "      <td>seg_00004_0</td>\n",
       "      <td>4</td>\n",
       "      <td>0</td>\n",
       "      <td>E:\\Work\\YasuoNet\\data\\dataset120_sl5_vsr3_vw64...</td>\n",
       "      <td>train</td>\n",
       "    </tr>\n",
       "    <tr>\n",
       "      <th>...</th>\n",
       "      <td>...</td>\n",
       "      <td>...</td>\n",
       "      <td>...</td>\n",
       "      <td>...</td>\n",
       "      <td>...</td>\n",
       "      <td>...</td>\n",
       "    </tr>\n",
       "    <tr>\n",
       "      <th>21558</th>\n",
       "      <td>20200216_T1_GEN_2</td>\n",
       "      <td>seg_00628_0</td>\n",
       "      <td>628</td>\n",
       "      <td>0</td>\n",
       "      <td>E:\\Work\\YasuoNet\\data\\dataset120_sl5_vsr3_vw64...</td>\n",
       "      <td>valid</td>\n",
       "    </tr>\n",
       "    <tr>\n",
       "      <th>21559</th>\n",
       "      <td>20200216_T1_GEN_2</td>\n",
       "      <td>seg_00629_0</td>\n",
       "      <td>629</td>\n",
       "      <td>0</td>\n",
       "      <td>E:\\Work\\YasuoNet\\data\\dataset120_sl5_vsr3_vw64...</td>\n",
       "      <td>valid</td>\n",
       "    </tr>\n",
       "    <tr>\n",
       "      <th>21560</th>\n",
       "      <td>20200216_T1_GEN_2</td>\n",
       "      <td>seg_00630_0</td>\n",
       "      <td>630</td>\n",
       "      <td>0</td>\n",
       "      <td>E:\\Work\\YasuoNet\\data\\dataset120_sl5_vsr3_vw64...</td>\n",
       "      <td>valid</td>\n",
       "    </tr>\n",
       "    <tr>\n",
       "      <th>21561</th>\n",
       "      <td>20200216_T1_GEN_2</td>\n",
       "      <td>seg_00631_0</td>\n",
       "      <td>631</td>\n",
       "      <td>0</td>\n",
       "      <td>E:\\Work\\YasuoNet\\data\\dataset120_sl5_vsr3_vw64...</td>\n",
       "      <td>valid</td>\n",
       "    </tr>\n",
       "    <tr>\n",
       "      <th>21562</th>\n",
       "      <td>20200216_T1_GEN_2</td>\n",
       "      <td>seg_00632_0</td>\n",
       "      <td>632</td>\n",
       "      <td>0</td>\n",
       "      <td>E:\\Work\\YasuoNet\\data\\dataset120_sl5_vsr3_vw64...</td>\n",
       "      <td>valid</td>\n",
       "    </tr>\n",
       "  </tbody>\n",
       "</table>\n",
       "<p>11742 rows × 6 columns</p>\n",
       "</div>"
      ],
      "text/plain": [
       "                   title         name  index  label  \\\n",
       "0      20200205_KT_GEN_1  seg_00000_0      0      0   \n",
       "1      20200205_KT_GEN_1  seg_00001_0      1      0   \n",
       "2      20200205_KT_GEN_1  seg_00002_0      2      0   \n",
       "3      20200205_KT_GEN_1  seg_00003_0      3      0   \n",
       "4      20200205_KT_GEN_1  seg_00004_0      4      0   \n",
       "...                  ...          ...    ...    ...   \n",
       "21558  20200216_T1_GEN_2  seg_00628_0    628      0   \n",
       "21559  20200216_T1_GEN_2  seg_00629_0    629      0   \n",
       "21560  20200216_T1_GEN_2  seg_00630_0    630      0   \n",
       "21561  20200216_T1_GEN_2  seg_00631_0    631      0   \n",
       "21562  20200216_T1_GEN_2  seg_00632_0    632      0   \n",
       "\n",
       "                                                    path subset  \n",
       "0      E:\\Work\\YasuoNet\\data\\dataset120_sl5_vsr3_vw64...  train  \n",
       "1      E:\\Work\\YasuoNet\\data\\dataset120_sl5_vsr3_vw64...  train  \n",
       "2      E:\\Work\\YasuoNet\\data\\dataset120_sl5_vsr3_vw64...  train  \n",
       "3      E:\\Work\\YasuoNet\\data\\dataset120_sl5_vsr3_vw64...  train  \n",
       "4      E:\\Work\\YasuoNet\\data\\dataset120_sl5_vsr3_vw64...  train  \n",
       "...                                                  ...    ...  \n",
       "21558  E:\\Work\\YasuoNet\\data\\dataset120_sl5_vsr3_vw64...  valid  \n",
       "21559  E:\\Work\\YasuoNet\\data\\dataset120_sl5_vsr3_vw64...  valid  \n",
       "21560  E:\\Work\\YasuoNet\\data\\dataset120_sl5_vsr3_vw64...  valid  \n",
       "21561  E:\\Work\\YasuoNet\\data\\dataset120_sl5_vsr3_vw64...  valid  \n",
       "21562  E:\\Work\\YasuoNet\\data\\dataset120_sl5_vsr3_vw64...  valid  \n",
       "\n",
       "[11742 rows x 6 columns]"
      ]
     },
     "execution_count": 26,
     "metadata": {},
     "output_type": "execute_result"
    }
   ],
   "source": [
    "all_small_set_df = df[df['title'].isin(small_train_set.append(small_valid_set).append(small_test_set))]\n",
    "all_small_set_df"
   ]
  },
  {
   "cell_type": "code",
   "execution_count": 33,
   "metadata": {},
   "outputs": [
    {
     "name": "stderr",
     "output_type": "stream",
     "text": [
      "C:\\Users\\ChoriStyle\\anaconda3\\envs\\tf2\\lib\\site-packages\\sklearn\\utils\\validation.py:71: FutureWarning: Pass classes=[0, 1], y=[0 0 0 ... 0 0 0] as keyword args. From version 0.25 passing these as positional arguments will result in an error\n",
      "  FutureWarning)\n"
     ]
    },
    {
     "data": {
      "text/plain": [
       "array([0.54966763, 5.533459  ])"
      ]
     },
     "execution_count": 33,
     "metadata": {},
     "output_type": "execute_result"
    }
   ],
   "source": [
    "from sklearn.utils import class_weight\n",
    "\n",
    "class_weight.compute_class_weight('balanced', [0, 1], all_small_set_df['label'].to_numpy())"
   ]
  },
  {
   "cell_type": "code",
   "execution_count": 28,
   "metadata": {},
   "outputs": [
    {
     "data": {
      "text/plain": [
       "array([0, 1], dtype=int64)"
      ]
     },
     "execution_count": 28,
     "metadata": {},
     "output_type": "execute_result"
    }
   ],
   "source": [
    "all_small_set_df['label'].unique()"
   ]
  }
 ],
 "metadata": {
  "kernelspec": {
   "display_name": "Python [conda env:tf2] *",
   "language": "python",
   "name": "conda-env-tf2-py"
  },
  "language_info": {
   "codemirror_mode": {
    "name": "ipython",
    "version": 3
   },
   "file_extension": ".py",
   "mimetype": "text/x-python",
   "name": "python",
   "nbconvert_exporter": "python",
   "pygments_lexer": "ipython3",
   "version": "3.7.7"
  }
 },
 "nbformat": 4,
 "nbformat_minor": 4
}
